{
  "nbformat": 4,
  "nbformat_minor": 0,
  "metadata": {
    "accelerator": "GPU",
    "colab": {
      "name": "Shakespeare Text Generation.ipynb",
      "provenance": [],
      "toc_visible": true
    },
    "kernelspec": {
      "display_name": "Python 3",
      "name": "python3"
    }
  },
  "cells": [
    {
      "cell_type": "markdown",
      "metadata": {
        "id": "7hnVay7LLDF1"
      },
      "source": [
        "# LSTM for Shakespare Style Text Generation"
      ]
    },
    {
      "cell_type": "code",
      "metadata": {
        "id": "BOwsuGQQY9OL"
      },
      "source": [
        "from tensorflow.keras.preprocessing.sequence import pad_sequences\n",
        "from tensorflow.keras.layers import Embedding, LSTM, Dense, Dropout, Bidirectional\n",
        "from tensorflow.keras.preprocessing.text import Tokenizer\n",
        "from tensorflow.keras.models import Sequential\n",
        "from tensorflow.keras.optimizers import Adam\n",
        "from tensorflow.keras import regularizers\n",
        "import tensorflow.keras.utils as ku \n",
        "import numpy as np "
      ],
      "execution_count": null,
      "outputs": []
    },
    {
      "cell_type": "code",
      "metadata": {
        "colab": {
          "base_uri": "https://localhost:8080/"
        },
        "id": "PRnDnCW-Z7qv",
        "outputId": "e96c4e88-40d3-4577-8d72-40d72914571b"
      },
      "source": [
        "tokenizer = Tokenizer()\n",
        "!wget --no-check-certificate \\\n",
        "    https://storage.googleapis.com/laurencemoroney-blog.appspot.com/sonnets.txt \\\n",
        "    -O /tmp/sonnets.txt\n",
        "data = open('/tmp/sonnets.txt').read()\n",
        "\n",
        "corpus = data.lower().split(\"\\n\")\n",
        "\n",
        "\n",
        "tokenizer.fit_on_texts(corpus)\n",
        "total_words = len(tokenizer.word_index) + 1\n",
        "\n",
        "# create input sequences using list of tokens\n",
        "input_sequences = []\n",
        "for line in corpus:\n",
        "\ttoken_list = tokenizer.texts_to_sequences([line])[0]\n",
        "\tfor i in range(1, len(token_list)):\n",
        "\t\tn_gram_sequence = token_list[:i+1]\n",
        "\t\tinput_sequences.append(n_gram_sequence)\n",
        "\n",
        "\n",
        "# pad sequences \n",
        "max_sequence_len = max([len(x) for x in input_sequences])\n",
        "input_sequences = np.array(pad_sequences(input_sequences, maxlen=max_sequence_len, padding='pre'))\n",
        "\n",
        "# create predictors and label\n",
        "predictors, label = input_sequences[:,:-1],input_sequences[:,-1]\n",
        "\n",
        "label = ku.to_categorical(label, num_classes=total_words)"
      ],
      "execution_count": null,
      "outputs": [
        {
          "output_type": "stream",
          "text": [
            "--2021-05-17 11:56:58--  https://storage.googleapis.com/laurencemoroney-blog.appspot.com/sonnets.txt\n",
            "Resolving storage.googleapis.com (storage.googleapis.com)... 172.217.7.240, 172.217.8.16, 172.217.13.80, ...\n",
            "Connecting to storage.googleapis.com (storage.googleapis.com)|172.217.7.240|:443... connected.\n",
            "HTTP request sent, awaiting response... 200 OK\n",
            "Length: 93578 (91K) [text/plain]\n",
            "Saving to: ‘/tmp/sonnets.txt’\n",
            "\n",
            "\r/tmp/sonnets.txt      0%[                    ]       0  --.-KB/s               \r/tmp/sonnets.txt    100%[===================>]  91.38K  --.-KB/s    in 0.001s  \n",
            "\n",
            "2021-05-17 11:56:58 (95.8 MB/s) - ‘/tmp/sonnets.txt’ saved [93578/93578]\n",
            "\n"
          ],
          "name": "stdout"
        }
      ]
    },
    {
      "cell_type": "code",
      "metadata": {
        "colab": {
          "base_uri": "https://localhost:8080/"
        },
        "id": "w9vH8Y59ajYL",
        "outputId": "1ee3ea4a-f5c3-43a1-c5b1-16d21c99dd3c"
      },
      "source": [
        "# Creating a model with two LSTM layers and one dropout function\n",
        "model = Sequential()\n",
        "Layer1 = model.add(Embedding(total_words, 100, input_length=max_sequence_len-1))\n",
        "Layer2 = model.add(Bidirectional(LSTM(150, return_sequences=True))) # return_sequences=True is there is another LSTM layer\n",
        "Layer3 = model.add(Dropout(.03))\n",
        "Layer4 = model.add(LSTM(100))\n",
        "Layer5 = model.add(Dense(1605, \n",
        "    kernel_regularizer=regularizers.l1_l2(l1=1e-5, l2=1e-4),\n",
        "    bias_regularizer=regularizers.l2(1e-4),\n",
        "    activity_regularizer=regularizers.l2(1e-5)))\n",
        "         \n",
        "Layer6 = model.add(Dense(total_words, activation = 'softmax'))\n",
        "\n",
        "          \n",
        "model.compile(loss = 'categorical_crossentropy', optimizer = 'adam', metrics = ['accuracy'])\n",
        "model.summary()\n"
      ],
      "execution_count": null,
      "outputs": [
        {
          "output_type": "stream",
          "text": [
            "Model: \"sequential\"\n",
            "_________________________________________________________________\n",
            "Layer (type)                 Output Shape              Param #   \n",
            "=================================================================\n",
            "embedding (Embedding)        (None, 10, 100)           321100    \n",
            "_________________________________________________________________\n",
            "bidirectional (Bidirectional (None, 10, 300)           301200    \n",
            "_________________________________________________________________\n",
            "dropout (Dropout)            (None, 10, 300)           0         \n",
            "_________________________________________________________________\n",
            "lstm_1 (LSTM)                (None, 100)               160400    \n",
            "_________________________________________________________________\n",
            "dense (Dense)                (None, 1605)              162105    \n",
            "_________________________________________________________________\n",
            "dense_1 (Dense)              (None, 3211)              5156866   \n",
            "=================================================================\n",
            "Total params: 6,101,671\n",
            "Trainable params: 6,101,671\n",
            "Non-trainable params: 0\n",
            "_________________________________________________________________\n"
          ],
          "name": "stdout"
        }
      ]
    },
    {
      "cell_type": "code",
      "metadata": {
        "colab": {
          "base_uri": "https://localhost:8080/"
        },
        "id": "AIg2f1HBxqof",
        "outputId": "398e1f7d-54db-4efe-ba5f-862fc6530744"
      },
      "source": [
        " history = model.fit(predictors, label, epochs=100, verbose=1)"
      ],
      "execution_count": null,
      "outputs": [
        {
          "output_type": "stream",
          "text": [
            "Epoch 1/100\n",
            "484/484 [==============================] - 41s 13ms/step - loss: 7.0550 - accuracy: 0.0195\n",
            "Epoch 2/100\n",
            "484/484 [==============================] - 6s 12ms/step - loss: 6.4350 - accuracy: 0.0301\n",
            "Epoch 3/100\n",
            "484/484 [==============================] - 6s 12ms/step - loss: 6.2226 - accuracy: 0.0381\n",
            "Epoch 4/100\n",
            "484/484 [==============================] - 6s 12ms/step - loss: 5.9513 - accuracy: 0.0545\n",
            "Epoch 5/100\n",
            "484/484 [==============================] - 5s 11ms/step - loss: 5.6782 - accuracy: 0.0638\n",
            "Epoch 6/100\n",
            "484/484 [==============================] - 5s 11ms/step - loss: 5.3490 - accuracy: 0.0772\n",
            "Epoch 7/100\n",
            "484/484 [==============================] - 5s 11ms/step - loss: 5.0243 - accuracy: 0.0987\n",
            "Epoch 8/100\n",
            "484/484 [==============================] - 5s 11ms/step - loss: 4.7041 - accuracy: 0.1187\n",
            "Epoch 9/100\n",
            "484/484 [==============================] - 5s 11ms/step - loss: 4.3184 - accuracy: 0.1611\n",
            "Epoch 10/100\n",
            "484/484 [==============================] - 5s 11ms/step - loss: 3.9287 - accuracy: 0.2126\n",
            "Epoch 11/100\n",
            "484/484 [==============================] - 5s 11ms/step - loss: 3.5122 - accuracy: 0.2808\n",
            "Epoch 12/100\n",
            "484/484 [==============================] - 5s 11ms/step - loss: 3.2308 - accuracy: 0.3314\n",
            "Epoch 13/100\n",
            "484/484 [==============================] - 5s 11ms/step - loss: 2.9307 - accuracy: 0.3831\n",
            "Epoch 14/100\n",
            "484/484 [==============================] - 5s 11ms/step - loss: 2.6517 - accuracy: 0.4439\n",
            "Epoch 15/100\n",
            "484/484 [==============================] - 6s 12ms/step - loss: 2.3932 - accuracy: 0.4915\n",
            "Epoch 16/100\n",
            "484/484 [==============================] - 5s 11ms/step - loss: 2.1606 - accuracy: 0.5391\n",
            "Epoch 17/100\n",
            "484/484 [==============================] - 5s 11ms/step - loss: 2.0000 - accuracy: 0.5713\n",
            "Epoch 18/100\n",
            "484/484 [==============================] - 6s 11ms/step - loss: 1.8260 - accuracy: 0.6145\n",
            "Epoch 19/100\n",
            "484/484 [==============================] - 5s 11ms/step - loss: 1.7003 - accuracy: 0.6353\n",
            "Epoch 20/100\n",
            "484/484 [==============================] - 5s 11ms/step - loss: 1.5386 - accuracy: 0.6769\n",
            "Epoch 21/100\n",
            "484/484 [==============================] - 5s 11ms/step - loss: 1.4307 - accuracy: 0.6998\n",
            "Epoch 22/100\n",
            "484/484 [==============================] - 5s 11ms/step - loss: 1.3520 - accuracy: 0.7193\n",
            "Epoch 23/100\n",
            "484/484 [==============================] - 6s 12ms/step - loss: 1.2491 - accuracy: 0.7457\n",
            "Epoch 24/100\n",
            "484/484 [==============================] - 5s 11ms/step - loss: 1.1998 - accuracy: 0.7527\n",
            "Epoch 25/100\n",
            "484/484 [==============================] - 6s 12ms/step - loss: 1.1482 - accuracy: 0.7603\n",
            "Epoch 26/100\n",
            "484/484 [==============================] - 5s 11ms/step - loss: 1.1061 - accuracy: 0.7769\n",
            "Epoch 27/100\n",
            "484/484 [==============================] - 6s 12ms/step - loss: 1.0661 - accuracy: 0.7836\n",
            "Epoch 28/100\n",
            "484/484 [==============================] - 5s 11ms/step - loss: 1.0391 - accuracy: 0.7881\n",
            "Epoch 29/100\n",
            "484/484 [==============================] - 5s 11ms/step - loss: 0.9573 - accuracy: 0.8079\n",
            "Epoch 30/100\n",
            "484/484 [==============================] - 5s 11ms/step - loss: 0.9736 - accuracy: 0.8056\n",
            "Epoch 31/100\n",
            "484/484 [==============================] - 5s 11ms/step - loss: 0.9429 - accuracy: 0.8107\n",
            "Epoch 32/100\n",
            "484/484 [==============================] - 5s 11ms/step - loss: 0.9118 - accuracy: 0.8173\n",
            "Epoch 33/100\n",
            "484/484 [==============================] - 5s 11ms/step - loss: 0.9098 - accuracy: 0.8136\n",
            "Epoch 34/100\n",
            "484/484 [==============================] - 6s 12ms/step - loss: 0.9148 - accuracy: 0.8136\n",
            "Epoch 35/100\n",
            "484/484 [==============================] - 5s 11ms/step - loss: 0.8385 - accuracy: 0.8270\n",
            "Epoch 36/100\n",
            "484/484 [==============================] - 5s 11ms/step - loss: 0.8478 - accuracy: 0.8278\n",
            "Epoch 37/100\n",
            "484/484 [==============================] - 5s 11ms/step - loss: 0.8520 - accuracy: 0.8260\n",
            "Epoch 38/100\n",
            "484/484 [==============================] - 6s 11ms/step - loss: 0.8260 - accuracy: 0.8265\n",
            "Epoch 39/100\n",
            "484/484 [==============================] - 5s 11ms/step - loss: 0.7938 - accuracy: 0.8359\n",
            "Epoch 40/100\n",
            "484/484 [==============================] - 6s 12ms/step - loss: 0.8108 - accuracy: 0.8371\n",
            "Epoch 41/100\n",
            "484/484 [==============================] - 5s 11ms/step - loss: 0.8031 - accuracy: 0.8320\n",
            "Epoch 42/100\n",
            "484/484 [==============================] - 5s 11ms/step - loss: 0.7944 - accuracy: 0.8343\n",
            "Epoch 43/100\n",
            "484/484 [==============================] - 5s 11ms/step - loss: 0.8116 - accuracy: 0.8312\n",
            "Epoch 44/100\n",
            "484/484 [==============================] - 5s 11ms/step - loss: 0.7681 - accuracy: 0.8423\n",
            "Epoch 45/100\n",
            "484/484 [==============================] - 6s 11ms/step - loss: 0.7618 - accuracy: 0.8437\n",
            "Epoch 46/100\n",
            "484/484 [==============================] - 6s 11ms/step - loss: 0.7735 - accuracy: 0.8402\n",
            "Epoch 47/100\n",
            "484/484 [==============================] - 5s 11ms/step - loss: 0.7708 - accuracy: 0.8368\n",
            "Epoch 48/100\n",
            "484/484 [==============================] - 5s 11ms/step - loss: 0.7407 - accuracy: 0.8439\n",
            "Epoch 49/100\n",
            "484/484 [==============================] - 5s 11ms/step - loss: 0.7382 - accuracy: 0.8429\n",
            "Epoch 50/100\n",
            "484/484 [==============================] - 5s 11ms/step - loss: 0.7530 - accuracy: 0.8392\n",
            "Epoch 51/100\n",
            "484/484 [==============================] - 5s 11ms/step - loss: 0.8241 - accuracy: 0.8189\n",
            "Epoch 52/100\n",
            "484/484 [==============================] - 5s 11ms/step - loss: 0.7319 - accuracy: 0.8447\n",
            "Epoch 53/100\n",
            "484/484 [==============================] - 5s 11ms/step - loss: 0.7125 - accuracy: 0.8478\n",
            "Epoch 54/100\n",
            "484/484 [==============================] - 5s 11ms/step - loss: 0.7208 - accuracy: 0.8458\n",
            "Epoch 55/100\n",
            "484/484 [==============================] - 5s 11ms/step - loss: 0.6987 - accuracy: 0.8497\n",
            "Epoch 56/100\n",
            "484/484 [==============================] - 5s 11ms/step - loss: 0.7015 - accuracy: 0.8482\n",
            "Epoch 57/100\n",
            "484/484 [==============================] - 5s 11ms/step - loss: 0.7079 - accuracy: 0.8473\n",
            "Epoch 58/100\n",
            "484/484 [==============================] - 5s 11ms/step - loss: 0.7163 - accuracy: 0.8438\n",
            "Epoch 59/100\n",
            "484/484 [==============================] - 5s 11ms/step - loss: 0.7010 - accuracy: 0.8452\n",
            "Epoch 60/100\n",
            "484/484 [==============================] - 5s 11ms/step - loss: 0.7343 - accuracy: 0.8366\n",
            "Epoch 61/100\n",
            "484/484 [==============================] - 5s 11ms/step - loss: 0.7168 - accuracy: 0.8403\n",
            "Epoch 62/100\n",
            "484/484 [==============================] - 5s 11ms/step - loss: 0.7131 - accuracy: 0.8466\n",
            "Epoch 63/100\n",
            "484/484 [==============================] - 5s 11ms/step - loss: 0.7484 - accuracy: 0.8342\n",
            "Epoch 64/100\n",
            "484/484 [==============================] - 5s 11ms/step - loss: 0.7154 - accuracy: 0.8410\n",
            "Epoch 65/100\n",
            "484/484 [==============================] - 5s 11ms/step - loss: 0.6753 - accuracy: 0.8507\n",
            "Epoch 66/100\n",
            "484/484 [==============================] - 5s 11ms/step - loss: 0.6764 - accuracy: 0.8469\n",
            "Epoch 67/100\n",
            "484/484 [==============================] - 5s 11ms/step - loss: 0.6548 - accuracy: 0.8533\n",
            "Epoch 68/100\n",
            "484/484 [==============================] - 5s 11ms/step - loss: 0.6764 - accuracy: 0.8498\n",
            "Epoch 69/100\n",
            "484/484 [==============================] - 5s 11ms/step - loss: 0.7449 - accuracy: 0.8281\n",
            "Epoch 70/100\n",
            "484/484 [==============================] - 5s 11ms/step - loss: 0.7452 - accuracy: 0.8298\n",
            "Epoch 71/100\n",
            "484/484 [==============================] - 5s 11ms/step - loss: 0.7181 - accuracy: 0.8374\n",
            "Epoch 72/100\n",
            "484/484 [==============================] - 5s 11ms/step - loss: 0.6816 - accuracy: 0.8458\n",
            "Epoch 73/100\n",
            "484/484 [==============================] - 5s 11ms/step - loss: 0.6616 - accuracy: 0.8481\n",
            "Epoch 74/100\n",
            "484/484 [==============================] - 5s 11ms/step - loss: 0.6412 - accuracy: 0.8552\n",
            "Epoch 75/100\n",
            "484/484 [==============================] - 5s 11ms/step - loss: 0.6607 - accuracy: 0.8510\n",
            "Epoch 76/100\n",
            "484/484 [==============================] - 5s 11ms/step - loss: 0.6440 - accuracy: 0.8525\n",
            "Epoch 77/100\n",
            "484/484 [==============================] - 6s 11ms/step - loss: 0.6510 - accuracy: 0.8529\n",
            "Epoch 78/100\n",
            "484/484 [==============================] - 5s 11ms/step - loss: 0.7103 - accuracy: 0.8373\n",
            "Epoch 79/100\n",
            "484/484 [==============================] - 5s 11ms/step - loss: 0.7634 - accuracy: 0.8232\n",
            "Epoch 80/100\n",
            "484/484 [==============================] - 6s 11ms/step - loss: 0.7374 - accuracy: 0.8298\n",
            "Epoch 81/100\n",
            "484/484 [==============================] - 5s 11ms/step - loss: 0.6898 - accuracy: 0.8409\n",
            "Epoch 82/100\n",
            "484/484 [==============================] - 5s 11ms/step - loss: 0.6454 - accuracy: 0.8520\n",
            "Epoch 83/100\n",
            "484/484 [==============================] - 6s 12ms/step - loss: 0.6580 - accuracy: 0.8487\n",
            "Epoch 84/100\n",
            "484/484 [==============================] - 5s 11ms/step - loss: 0.6155 - accuracy: 0.8566\n",
            "Epoch 85/100\n",
            "484/484 [==============================] - 5s 11ms/step - loss: 0.6523 - accuracy: 0.8465\n",
            "Epoch 86/100\n",
            "484/484 [==============================] - 5s 11ms/step - loss: 0.6660 - accuracy: 0.8451\n",
            "Epoch 87/100\n",
            "484/484 [==============================] - 5s 11ms/step - loss: 0.7034 - accuracy: 0.8361\n",
            "Epoch 88/100\n",
            "484/484 [==============================] - 6s 11ms/step - loss: 0.7031 - accuracy: 0.8388\n",
            "Epoch 89/100\n",
            "484/484 [==============================] - 6s 11ms/step - loss: 0.6620 - accuracy: 0.8477\n",
            "Epoch 90/100\n",
            "484/484 [==============================] - 5s 11ms/step - loss: 0.6530 - accuracy: 0.8494\n",
            "Epoch 91/100\n",
            "484/484 [==============================] - 6s 11ms/step - loss: 0.6643 - accuracy: 0.8457\n",
            "Epoch 92/100\n",
            "484/484 [==============================] - 6s 12ms/step - loss: 0.6199 - accuracy: 0.8537\n",
            "Epoch 93/100\n",
            "484/484 [==============================] - 5s 11ms/step - loss: 0.6184 - accuracy: 0.8562\n",
            "Epoch 94/100\n",
            "484/484 [==============================] - 6s 12ms/step - loss: 0.6398 - accuracy: 0.8488\n",
            "Epoch 95/100\n",
            "484/484 [==============================] - 6s 12ms/step - loss: 0.6859 - accuracy: 0.8402\n",
            "Epoch 96/100\n",
            "484/484 [==============================] - 5s 11ms/step - loss: 0.7257 - accuracy: 0.8330\n",
            "Epoch 97/100\n",
            "484/484 [==============================] - 5s 11ms/step - loss: 0.6694 - accuracy: 0.8466\n",
            "Epoch 98/100\n",
            "484/484 [==============================] - 5s 11ms/step - loss: 0.6372 - accuracy: 0.8506\n",
            "Epoch 99/100\n",
            "484/484 [==============================] - 5s 11ms/step - loss: 0.6247 - accuracy: 0.8544\n",
            "Epoch 100/100\n",
            "484/484 [==============================] - 6s 11ms/step - loss: 0.6290 - accuracy: 0.8505\n"
          ],
          "name": "stdout"
        }
      ]
    },
    {
      "cell_type": "code",
      "metadata": {
        "id": "1fXTEO3GJ282",
        "colab": {
          "base_uri": "https://localhost:8080/",
          "height": 545
        },
        "outputId": "008a866f-3bc8-4249-c272-a8595ebb4c26"
      },
      "source": [
        "import matplotlib.pyplot as plt\n",
        "acc = history.history['accuracy']\n",
        "loss = history.history['loss']\n",
        "\n",
        "epochs = range(len(acc))\n",
        "\n",
        "plt.plot(epochs, acc, 'b', label='Training accuracy')\n",
        "plt.title('Training accuracy')\n",
        "\n",
        "plt.figure()\n",
        "\n",
        "plt.plot(epochs, loss, 'b', label='Training Loss')\n",
        "plt.title('Training loss')\n",
        "plt.legend()\n",
        "\n",
        "plt.show()"
      ],
      "execution_count": null,
      "outputs": [
        {
          "output_type": "display_data",
          "data": {
            "image/png": "[encoded data removed]",
            "text/plain": [
              "<Figure size 432x288 with 1 Axes>"
            ]
          },
          "metadata": {
            "tags": [],
            "needs_background": "light"
          }
        },
        {
          "output_type": "display_data",
          "data": {
            "image/png": "[encoded data removed]",
            "text/plain": [
              "<Figure size 432x288 with 1 Axes>"
            ]
          },
          "metadata": {
            "tags": [],
            "needs_background": "light"
          }
        }
      ]
    },
    {
      "cell_type": "markdown",
      "metadata": {
        "id": "9etW6TT7Lmjm"
      },
      "source": [
        "Using the model to generate 100 words of Shakespearean text."
      ]
    },
    {
      "cell_type": "code",
      "metadata": {
        "id": "6Vc6PHgxa6Hm",
        "colab": {
          "base_uri": "https://localhost:8080/"
        },
        "outputId": "9860d2e8-4799-433f-d857-d74e92d138ba"
      },
      "source": [
        "seed_text = \"Help me Obi Wan Kenobi, you're my only hope\"\n",
        "next_words = 100\n",
        "  \n",
        "for _ in range(next_words):\n",
        "\ttoken_list = tokenizer.texts_to_sequences([seed_text])[0]\n",
        "\ttoken_list = pad_sequences([token_list], maxlen=max_sequence_len-1, padding='pre')\n",
        "\tpredicted = model.predict_classes(token_list, verbose=0)\n",
        "\toutput_word = \"\"\n",
        "\tfor word, index in tokenizer.word_index.items():\n",
        "\t\tif index == predicted:\n",
        "\t\t\toutput_word = word\n",
        "\t\t\tbreak\n",
        "\tseed_text += \" \" + output_word\n",
        "print(seed_text)"
      ],
      "execution_count": null,
      "outputs": [
        {
          "output_type": "stream",
          "text": [
            "/usr/local/lib/python3.7/dist-packages/tensorflow/python/keras/engine/sequential.py:450: UserWarning: `model.predict_classes()` is deprecated and will be removed after 2021-01-01. Please use instead:* `np.argmax(model.predict(x), axis=-1)`,   if your model does multi-class classification   (e.g. if it uses a `softmax` last-layer activation).* `(model.predict(x) > 0.5).astype(\"int32\")`,   if your model does binary classification   (e.g. if it uses a `sigmoid` last-layer activation).\n",
            "  warnings.warn('`model.predict_classes()` is deprecated and '\n"
          ],
          "name": "stderr"
        },
        {
          "output_type": "stream",
          "text": [
            "Help me Obi Wan Kenobi, you're my only hope will give me bow me eyes and 'will ' speed bright of our old resent evil light in down truth of whose dearth greater prove and lease and time ' may leave me read thine eye ' be thing a loss can be my mind being groan doth steal thee all my poverty my tune offence's cross light faces ' growing of souls spent evil made so sun as old sun be a dream as place an hand with beauty presage doth forests story tell thee bow kings shown spent weeds away away date immured of thee blushing stand stay\n"
          ],
          "name": "stdout"
        }
      ]
    }
  ]
}